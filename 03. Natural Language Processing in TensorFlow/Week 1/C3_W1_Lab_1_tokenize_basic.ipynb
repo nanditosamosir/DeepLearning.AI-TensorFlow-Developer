{
  "nbformat": 4,
  "nbformat_minor": 0,
  "metadata": {
    "colab": {
      "provenance": []
    },
    "kernelspec": {
      "name": "python3",
      "display_name": "Python 3"
    },
    "language_info": {
      "name": "python"
    }
  },
  "cells": [
    {
      "cell_type": "markdown",
      "source": [
        "# Tokenizer Basics\n"
      ],
      "metadata": {
        "id": "AF6SdXKgr7gZ"
      }
    },
    {
      "cell_type": "markdown",
      "source": [
        "## Generating the vocabulary"
      ],
      "metadata": {
        "id": "gzFM3ZsJsDIi"
      }
    },
    {
      "cell_type": "code",
      "execution_count": 5,
      "metadata": {
        "colab": {
          "base_uri": "https://localhost:8080/"
        },
        "id": "YxMCQhADr36b",
        "outputId": "edd94b20-6821-4a90-cf9f-6ca3bd70f962"
      },
      "outputs": [
        {
          "output_type": "stream",
          "name": "stdout",
          "text": [
            "{'love': 1, 'my': 2, 'dog': 3, 'i': 4, 'cat': 5, 'me': 6, 'you': 7}\n"
          ]
        }
      ],
      "source": [
        "from tensorflow.keras.preprocessing.text import Tokenizer\n",
        "\n",
        "# Define input sentence\n",
        "sentences = [\n",
        "    'I love my dog',\n",
        "    'I love my cat',\n",
        "    'You love my dog!'\n",
        "]\n",
        "\n",
        "# Initialize the Tokenizer class\n",
        "tokenizer = Tokenizer(num_words = 100)\n",
        "\n",
        "# Generate indices for each word in the corpus\n",
        "tokenizer.fit_on_texts(sentences)\n",
        "\n",
        "# Get the indices and print it\n",
        "word_index = tokenizer.word_index\n",
        "print(word_index)"
      ]
    },
    {
      "cell_type": "code",
      "source": [],
      "metadata": {
        "id": "-yuLTWFLsq6d"
      },
      "execution_count": null,
      "outputs": []
    }
  ]
}